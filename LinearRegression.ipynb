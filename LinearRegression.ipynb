{
 "cells": [
  {
   "cell_type": "code",
   "execution_count": 23,
   "metadata": {},
   "outputs": [],
   "source": [
    "import numpy as np\n",
    "import pandas as pd\n",
    "\n",
    "import matplotlib as mpl\n",
    "import matplotlib.pyplot as plt\n",
    "import warnings\n",
    "import seaborn as sns\n",
    "\n",
    "warnings.filterwarnings(\"ignore\")\n"
   ]
  },
  {
   "cell_type": "code",
   "execution_count": 22,
   "metadata": {},
   "outputs": [
    {
     "ename": "ImportError",
     "evalue": "cannot import name 'load_' from 'sklearn.datasets' (c:\\Users\\PC-01\\anaconda3\\envs\\sub1\\lib\\site-packages\\sklearn\\datasets\\__init__.py)",
     "output_type": "error",
     "traceback": [
      "\u001b[1;31m---------------------------------------------------------------------------\u001b[0m",
      "\u001b[1;31mImportError\u001b[0m                               Traceback (most recent call last)",
      "\u001b[1;32mc:\\Users\\PC-01\\Desktop\\LinearRegression.ipynb Cell 2\u001b[0m line \u001b[0;36m4\n\u001b[0;32m      <a href='vscode-notebook-cell:/c%3A/Users/PC-01/Desktop/LinearRegression.ipynb#W1sZmlsZQ%3D%3D?line=0'>1</a>\u001b[0m \u001b[39m# from sklearn.datasets import fetch_openml\u001b[39;00m\n\u001b[0;32m      <a href='vscode-notebook-cell:/c%3A/Users/PC-01/Desktop/LinearRegression.ipynb#W1sZmlsZQ%3D%3D?line=1'>2</a>\u001b[0m \u001b[39m# boston = fetch_openml(name='boston')\u001b[39;00m\n\u001b[1;32m----> <a href='vscode-notebook-cell:/c%3A/Users/PC-01/Desktop/LinearRegression.ipynb#W1sZmlsZQ%3D%3D?line=3'>4</a>\u001b[0m \u001b[39mfrom\u001b[39;00m \u001b[39msklearn\u001b[39;00m\u001b[39m.\u001b[39;00m\u001b[39mdatasets\u001b[39;00m \u001b[39mimport\u001b[39;00m load_\n\u001b[0;32m      <a href='vscode-notebook-cell:/c%3A/Users/PC-01/Desktop/LinearRegression.ipynb#W1sZmlsZQ%3D%3D?line=4'>5</a>\u001b[0m boston_\n\u001b[0;32m      <a href='vscode-notebook-cell:/c%3A/Users/PC-01/Desktop/LinearRegression.ipynb#W1sZmlsZQ%3D%3D?line=6'>7</a>\u001b[0m boston_df \u001b[39m=\u001b[39m pd\u001b[39m.\u001b[39mDataFrame(data\u001b[39m=\u001b[39mboston\u001b[39m.\u001b[39mdata, columns\u001b[39m=\u001b[39mboston\u001b[39m.\u001b[39mfeature_names)\n",
      "\u001b[1;31mImportError\u001b[0m: cannot import name 'load_' from 'sklearn.datasets' (c:\\Users\\PC-01\\anaconda3\\envs\\sub1\\lib\\site-packages\\sklearn\\datasets\\__init__.py)"
     ]
    }
   ],
   "source": [
    "# from sklearn.datasets import fetch_openml\n",
    "# boston = fetch_openml(name='boston')\n",
    "\n",
    "from sklearn.datasets import load_bos\n",
    "boston_\n",
    "\n",
    "boston_df = pd.DataFrame(data=boston.data, columns=boston.feature_names)\n",
    "boston_df[\"PRICE\"] = boston.target\n",
    "\n",
    "ig, axs = plt.subplots(2, 4, figsize=(16,8))\n",
    "\n"
   ]
  },
  {
   "cell_type": "code",
   "execution_count": 21,
   "metadata": {},
   "outputs": [
    {
     "ename": "TypeError",
     "evalue": "Categorical is not ordered for operation min\nyou can use .as_ordered() to change the Categorical to an ordered one\n",
     "output_type": "error",
     "traceback": [
      "\u001b[1;31m---------------------------------------------------------------------------\u001b[0m",
      "\u001b[1;31mTypeError\u001b[0m                                 Traceback (most recent call last)",
      "\u001b[1;32mc:\\Users\\PC-01\\Desktop\\LinearRegression.ipynb Cell 3\u001b[0m line \u001b[0;36m6\n\u001b[0;32m      <a href='vscode-notebook-cell:/c%3A/Users/PC-01/Desktop/LinearRegression.ipynb#W2sZmlsZQ%3D%3D?line=2'>3</a>\u001b[0m row \u001b[39m=\u001b[39m \u001b[39mint\u001b[39m(i\u001b[39m/\u001b[39m\u001b[39m4\u001b[39m)\n\u001b[0;32m      <a href='vscode-notebook-cell:/c%3A/Users/PC-01/Desktop/LinearRegression.ipynb#W2sZmlsZQ%3D%3D?line=3'>4</a>\u001b[0m col \u001b[39m=\u001b[39m i\u001b[39m%\u001b[39m\u001b[39m4\u001b[39m\n\u001b[1;32m----> <a href='vscode-notebook-cell:/c%3A/Users/PC-01/Desktop/LinearRegression.ipynb#W2sZmlsZQ%3D%3D?line=5'>6</a>\u001b[0m sns\u001b[39m.\u001b[39;49mregplot(x \u001b[39m=\u001b[39;49m feature, y \u001b[39m=\u001b[39;49m \u001b[39m\"\u001b[39;49m\u001b[39mPRICE\u001b[39;49m\u001b[39m\"\u001b[39;49m, data \u001b[39m=\u001b[39;49m boston_df, ax \u001b[39m=\u001b[39;49m axs[row, col])\n",
      "File \u001b[1;32m~\\AppData\\Local\\Packages\\PythonSoftwareFoundation.Python.3.11_qbz5n2kfra8p0\\LocalCache\\local-packages\\Python311\\site-packages\\seaborn\\regression.py:763\u001b[0m, in \u001b[0;36mregplot\u001b[1;34m(data, x, y, x_estimator, x_bins, x_ci, scatter, fit_reg, ci, n_boot, units, seed, order, logistic, lowess, robust, logx, x_partial, y_partial, truncate, dropna, x_jitter, y_jitter, label, color, marker, scatter_kws, line_kws, ax)\u001b[0m\n\u001b[0;32m    752\u001b[0m \u001b[39mdef\u001b[39;00m \u001b[39mregplot\u001b[39m(\n\u001b[0;32m    753\u001b[0m     data\u001b[39m=\u001b[39m\u001b[39mNone\u001b[39;00m, \u001b[39m*\u001b[39m, x\u001b[39m=\u001b[39m\u001b[39mNone\u001b[39;00m, y\u001b[39m=\u001b[39m\u001b[39mNone\u001b[39;00m,\n\u001b[0;32m    754\u001b[0m     x_estimator\u001b[39m=\u001b[39m\u001b[39mNone\u001b[39;00m, x_bins\u001b[39m=\u001b[39m\u001b[39mNone\u001b[39;00m, x_ci\u001b[39m=\u001b[39m\u001b[39m\"\u001b[39m\u001b[39mci\u001b[39m\u001b[39m\"\u001b[39m,\n\u001b[1;32m   (...)\u001b[0m\n\u001b[0;32m    760\u001b[0m     scatter_kws\u001b[39m=\u001b[39m\u001b[39mNone\u001b[39;00m, line_kws\u001b[39m=\u001b[39m\u001b[39mNone\u001b[39;00m, ax\u001b[39m=\u001b[39m\u001b[39mNone\u001b[39;00m\n\u001b[0;32m    761\u001b[0m ):\n\u001b[1;32m--> 763\u001b[0m     plotter \u001b[39m=\u001b[39m _RegressionPlotter(x, y, data, x_estimator, x_bins, x_ci,\n\u001b[0;32m    764\u001b[0m                                  scatter, fit_reg, ci, n_boot, units, seed,\n\u001b[0;32m    765\u001b[0m                                  order, logistic, lowess, robust, logx,\n\u001b[0;32m    766\u001b[0m                                  x_partial, y_partial, truncate, dropna,\n\u001b[0;32m    767\u001b[0m                                  x_jitter, y_jitter, color, label)\n\u001b[0;32m    769\u001b[0m     \u001b[39mif\u001b[39;00m ax \u001b[39mis\u001b[39;00m \u001b[39mNone\u001b[39;00m:\n\u001b[0;32m    770\u001b[0m         ax \u001b[39m=\u001b[39m plt\u001b[39m.\u001b[39mgca()\n",
      "File \u001b[1;32m~\\AppData\\Local\\Packages\\PythonSoftwareFoundation.Python.3.11_qbz5n2kfra8p0\\LocalCache\\local-packages\\Python311\\site-packages\\seaborn\\regression.py:134\u001b[0m, in \u001b[0;36m_RegressionPlotter.__init__\u001b[1;34m(self, x, y, data, x_estimator, x_bins, x_ci, scatter, fit_reg, ci, n_boot, units, seed, order, logistic, lowess, robust, logx, x_partial, y_partial, truncate, dropna, x_jitter, y_jitter, color, label)\u001b[0m\n\u001b[0;32m    132\u001b[0m \u001b[39m# Save the range of the x variable for the grid later\u001b[39;00m\n\u001b[0;32m    133\u001b[0m \u001b[39mif\u001b[39;00m \u001b[39mself\u001b[39m\u001b[39m.\u001b[39mfit_reg:\n\u001b[1;32m--> 134\u001b[0m     \u001b[39mself\u001b[39m\u001b[39m.\u001b[39mx_range \u001b[39m=\u001b[39m \u001b[39mself\u001b[39;49m\u001b[39m.\u001b[39;49mx\u001b[39m.\u001b[39;49mmin(), \u001b[39mself\u001b[39m\u001b[39m.\u001b[39mx\u001b[39m.\u001b[39mmax()\n",
      "File \u001b[1;32m~\\AppData\\Local\\Packages\\PythonSoftwareFoundation.Python.3.11_qbz5n2kfra8p0\\LocalCache\\local-packages\\Python311\\site-packages\\pandas\\core\\series.py:6179\u001b[0m, in \u001b[0;36mSeries.min\u001b[1;34m(self, axis, skipna, numeric_only, **kwargs)\u001b[0m\n\u001b[0;32m   6171\u001b[0m \u001b[39m@doc\u001b[39m(make_doc(\u001b[39m\"\u001b[39m\u001b[39mmin\u001b[39m\u001b[39m\"\u001b[39m, ndim\u001b[39m=\u001b[39m\u001b[39m1\u001b[39m))\n\u001b[0;32m   6172\u001b[0m \u001b[39mdef\u001b[39;00m \u001b[39mmin\u001b[39m(\n\u001b[0;32m   6173\u001b[0m     \u001b[39mself\u001b[39m,\n\u001b[1;32m   (...)\u001b[0m\n\u001b[0;32m   6177\u001b[0m     \u001b[39m*\u001b[39m\u001b[39m*\u001b[39mkwargs,\n\u001b[0;32m   6178\u001b[0m ):\n\u001b[1;32m-> 6179\u001b[0m     \u001b[39mreturn\u001b[39;00m NDFrame\u001b[39m.\u001b[39;49mmin(\u001b[39mself\u001b[39;49m, axis, skipna, numeric_only, \u001b[39m*\u001b[39;49m\u001b[39m*\u001b[39;49mkwargs)\n",
      "File \u001b[1;32m~\\AppData\\Local\\Packages\\PythonSoftwareFoundation.Python.3.11_qbz5n2kfra8p0\\LocalCache\\local-packages\\Python311\\site-packages\\pandas\\core\\generic.py:11952\u001b[0m, in \u001b[0;36mNDFrame.min\u001b[1;34m(self, axis, skipna, numeric_only, **kwargs)\u001b[0m\n\u001b[0;32m  11945\u001b[0m \u001b[39mdef\u001b[39;00m \u001b[39mmin\u001b[39m(\n\u001b[0;32m  11946\u001b[0m     \u001b[39mself\u001b[39m,\n\u001b[0;32m  11947\u001b[0m     axis: Axis \u001b[39m|\u001b[39m \u001b[39mNone\u001b[39;00m \u001b[39m=\u001b[39m \u001b[39m0\u001b[39m,\n\u001b[1;32m   (...)\u001b[0m\n\u001b[0;32m  11950\u001b[0m     \u001b[39m*\u001b[39m\u001b[39m*\u001b[39mkwargs,\n\u001b[0;32m  11951\u001b[0m ):\n\u001b[1;32m> 11952\u001b[0m     \u001b[39mreturn\u001b[39;00m \u001b[39mself\u001b[39;49m\u001b[39m.\u001b[39;49m_stat_function(\n\u001b[0;32m  11953\u001b[0m         \u001b[39m\"\u001b[39;49m\u001b[39mmin\u001b[39;49m\u001b[39m\"\u001b[39;49m,\n\u001b[0;32m  11954\u001b[0m         nanops\u001b[39m.\u001b[39;49mnanmin,\n\u001b[0;32m  11955\u001b[0m         axis,\n\u001b[0;32m  11956\u001b[0m         skipna,\n\u001b[0;32m  11957\u001b[0m         numeric_only,\n\u001b[0;32m  11958\u001b[0m         \u001b[39m*\u001b[39;49m\u001b[39m*\u001b[39;49mkwargs,\n\u001b[0;32m  11959\u001b[0m     )\n",
      "File \u001b[1;32m~\\AppData\\Local\\Packages\\PythonSoftwareFoundation.Python.3.11_qbz5n2kfra8p0\\LocalCache\\local-packages\\Python311\\site-packages\\pandas\\core\\generic.py:11941\u001b[0m, in \u001b[0;36mNDFrame._stat_function\u001b[1;34m(self, name, func, axis, skipna, numeric_only, **kwargs)\u001b[0m\n\u001b[0;32m  11937\u001b[0m nv\u001b[39m.\u001b[39mvalidate_func(name, (), kwargs)\n\u001b[0;32m  11939\u001b[0m validate_bool_kwarg(skipna, \u001b[39m\"\u001b[39m\u001b[39mskipna\u001b[39m\u001b[39m\"\u001b[39m, none_allowed\u001b[39m=\u001b[39m\u001b[39mFalse\u001b[39;00m)\n\u001b[1;32m> 11941\u001b[0m \u001b[39mreturn\u001b[39;00m \u001b[39mself\u001b[39;49m\u001b[39m.\u001b[39;49m_reduce(\n\u001b[0;32m  11942\u001b[0m     func, name\u001b[39m=\u001b[39;49mname, axis\u001b[39m=\u001b[39;49maxis, skipna\u001b[39m=\u001b[39;49mskipna, numeric_only\u001b[39m=\u001b[39;49mnumeric_only\n\u001b[0;32m  11943\u001b[0m )\n",
      "File \u001b[1;32m~\\AppData\\Local\\Packages\\PythonSoftwareFoundation.Python.3.11_qbz5n2kfra8p0\\LocalCache\\local-packages\\Python311\\site-packages\\pandas\\core\\series.py:6115\u001b[0m, in \u001b[0;36mSeries._reduce\u001b[1;34m(self, op, name, axis, skipna, numeric_only, filter_type, **kwds)\u001b[0m\n\u001b[0;32m   6111\u001b[0m     \u001b[39mself\u001b[39m\u001b[39m.\u001b[39m_get_axis_number(axis)\n\u001b[0;32m   6113\u001b[0m \u001b[39mif\u001b[39;00m \u001b[39misinstance\u001b[39m(delegate, ExtensionArray):\n\u001b[0;32m   6114\u001b[0m     \u001b[39m# dispatch to ExtensionArray interface\u001b[39;00m\n\u001b[1;32m-> 6115\u001b[0m     \u001b[39mreturn\u001b[39;00m delegate\u001b[39m.\u001b[39;49m_reduce(name, skipna\u001b[39m=\u001b[39;49mskipna, \u001b[39m*\u001b[39;49m\u001b[39m*\u001b[39;49mkwds)\n\u001b[0;32m   6117\u001b[0m \u001b[39melse\u001b[39;00m:\n\u001b[0;32m   6118\u001b[0m     \u001b[39m# dispatch to numpy arrays\u001b[39;00m\n\u001b[0;32m   6119\u001b[0m     \u001b[39mif\u001b[39;00m numeric_only \u001b[39mand\u001b[39;00m \u001b[39mself\u001b[39m\u001b[39m.\u001b[39mdtype\u001b[39m.\u001b[39mkind \u001b[39mnot\u001b[39;00m \u001b[39min\u001b[39;00m \u001b[39m\"\u001b[39m\u001b[39miufcb\u001b[39m\u001b[39m\"\u001b[39m:\n\u001b[0;32m   6120\u001b[0m         \u001b[39m# i.e. not is_numeric_dtype(self.dtype)\u001b[39;00m\n",
      "File \u001b[1;32m~\\AppData\\Local\\Packages\\PythonSoftwareFoundation.Python.3.11_qbz5n2kfra8p0\\LocalCache\\local-packages\\Python311\\site-packages\\pandas\\core\\arrays\\categorical.py:2325\u001b[0m, in \u001b[0;36mCategorical._reduce\u001b[1;34m(self, name, skipna, keepdims, **kwargs)\u001b[0m\n\u001b[0;32m   2322\u001b[0m \u001b[39mdef\u001b[39;00m \u001b[39m_reduce\u001b[39m(\n\u001b[0;32m   2323\u001b[0m     \u001b[39mself\u001b[39m, name: \u001b[39mstr\u001b[39m, \u001b[39m*\u001b[39m, skipna: \u001b[39mbool\u001b[39m \u001b[39m=\u001b[39m \u001b[39mTrue\u001b[39;00m, keepdims: \u001b[39mbool\u001b[39m \u001b[39m=\u001b[39m \u001b[39mFalse\u001b[39;00m, \u001b[39m*\u001b[39m\u001b[39m*\u001b[39mkwargs\n\u001b[0;32m   2324\u001b[0m ):\n\u001b[1;32m-> 2325\u001b[0m     result \u001b[39m=\u001b[39m \u001b[39msuper\u001b[39;49m()\u001b[39m.\u001b[39;49m_reduce(name, skipna\u001b[39m=\u001b[39;49mskipna, keepdims\u001b[39m=\u001b[39;49mkeepdims, \u001b[39m*\u001b[39;49m\u001b[39m*\u001b[39;49mkwargs)\n\u001b[0;32m   2326\u001b[0m     \u001b[39mif\u001b[39;00m name \u001b[39min\u001b[39;00m [\u001b[39m\"\u001b[39m\u001b[39margmax\u001b[39m\u001b[39m\"\u001b[39m, \u001b[39m\"\u001b[39m\u001b[39margmin\u001b[39m\u001b[39m\"\u001b[39m]:\n\u001b[0;32m   2327\u001b[0m         \u001b[39m# don't wrap in Categorical!\u001b[39;00m\n\u001b[0;32m   2328\u001b[0m         \u001b[39mreturn\u001b[39;00m result\n",
      "File \u001b[1;32m~\\AppData\\Local\\Packages\\PythonSoftwareFoundation.Python.3.11_qbz5n2kfra8p0\\LocalCache\\local-packages\\Python311\\site-packages\\pandas\\core\\arrays\\base.py:1860\u001b[0m, in \u001b[0;36mExtensionArray._reduce\u001b[1;34m(self, name, skipna, keepdims, **kwargs)\u001b[0m\n\u001b[0;32m   1855\u001b[0m \u001b[39mif\u001b[39;00m meth \u001b[39mis\u001b[39;00m \u001b[39mNone\u001b[39;00m:\n\u001b[0;32m   1856\u001b[0m     \u001b[39mraise\u001b[39;00m \u001b[39mTypeError\u001b[39;00m(\n\u001b[0;32m   1857\u001b[0m         \u001b[39mf\u001b[39m\u001b[39m\"\u001b[39m\u001b[39m'\u001b[39m\u001b[39m{\u001b[39;00m\u001b[39mtype\u001b[39m(\u001b[39mself\u001b[39m)\u001b[39m.\u001b[39m\u001b[39m__name__\u001b[39m\u001b[39m}\u001b[39;00m\u001b[39m'\u001b[39m\u001b[39m with dtype \u001b[39m\u001b[39m{\u001b[39;00m\u001b[39mself\u001b[39m\u001b[39m.\u001b[39mdtype\u001b[39m}\u001b[39;00m\u001b[39m \u001b[39m\u001b[39m\"\u001b[39m\n\u001b[0;32m   1858\u001b[0m         \u001b[39mf\u001b[39m\u001b[39m\"\u001b[39m\u001b[39mdoes not support reduction \u001b[39m\u001b[39m'\u001b[39m\u001b[39m{\u001b[39;00mname\u001b[39m}\u001b[39;00m\u001b[39m'\u001b[39m\u001b[39m\"\u001b[39m\n\u001b[0;32m   1859\u001b[0m     )\n\u001b[1;32m-> 1860\u001b[0m result \u001b[39m=\u001b[39m meth(skipna\u001b[39m=\u001b[39;49mskipna, \u001b[39m*\u001b[39;49m\u001b[39m*\u001b[39;49mkwargs)\n\u001b[0;32m   1861\u001b[0m \u001b[39mif\u001b[39;00m keepdims:\n\u001b[0;32m   1862\u001b[0m     result \u001b[39m=\u001b[39m np\u001b[39m.\u001b[39marray([result])\n",
      "File \u001b[1;32m~\\AppData\\Local\\Packages\\PythonSoftwareFoundation.Python.3.11_qbz5n2kfra8p0\\LocalCache\\local-packages\\Python311\\site-packages\\pandas\\core\\arrays\\categorical.py:2351\u001b[0m, in \u001b[0;36mCategorical.min\u001b[1;34m(self, skipna, **kwargs)\u001b[0m\n\u001b[0;32m   2349\u001b[0m nv\u001b[39m.\u001b[39mvalidate_minmax_axis(kwargs\u001b[39m.\u001b[39mget(\u001b[39m\"\u001b[39m\u001b[39maxis\u001b[39m\u001b[39m\"\u001b[39m, \u001b[39m0\u001b[39m))\n\u001b[0;32m   2350\u001b[0m nv\u001b[39m.\u001b[39mvalidate_min((), kwargs)\n\u001b[1;32m-> 2351\u001b[0m \u001b[39mself\u001b[39;49m\u001b[39m.\u001b[39;49mcheck_for_ordered(\u001b[39m\"\u001b[39;49m\u001b[39mmin\u001b[39;49m\u001b[39m\"\u001b[39;49m)\n\u001b[0;32m   2353\u001b[0m \u001b[39mif\u001b[39;00m \u001b[39mnot\u001b[39;00m \u001b[39mlen\u001b[39m(\u001b[39mself\u001b[39m\u001b[39m.\u001b[39m_codes):\n\u001b[0;32m   2354\u001b[0m     \u001b[39mreturn\u001b[39;00m \u001b[39mself\u001b[39m\u001b[39m.\u001b[39mdtype\u001b[39m.\u001b[39mna_value\n",
      "File \u001b[1;32m~\\AppData\\Local\\Packages\\PythonSoftwareFoundation.Python.3.11_qbz5n2kfra8p0\\LocalCache\\local-packages\\Python311\\site-packages\\pandas\\core\\arrays\\categorical.py:1844\u001b[0m, in \u001b[0;36mCategorical.check_for_ordered\u001b[1;34m(self, op)\u001b[0m\n\u001b[0;32m   1842\u001b[0m \u001b[39m\u001b[39m\u001b[39m\"\"\"assert that we are ordered\"\"\"\u001b[39;00m\n\u001b[0;32m   1843\u001b[0m \u001b[39mif\u001b[39;00m \u001b[39mnot\u001b[39;00m \u001b[39mself\u001b[39m\u001b[39m.\u001b[39mordered:\n\u001b[1;32m-> 1844\u001b[0m     \u001b[39mraise\u001b[39;00m \u001b[39mTypeError\u001b[39;00m(\n\u001b[0;32m   1845\u001b[0m         \u001b[39mf\u001b[39m\u001b[39m\"\u001b[39m\u001b[39mCategorical is not ordered for operation \u001b[39m\u001b[39m{\u001b[39;00mop\u001b[39m}\u001b[39;00m\u001b[39m\\n\u001b[39;00m\u001b[39m\"\u001b[39m\n\u001b[0;32m   1846\u001b[0m         \u001b[39m\"\u001b[39m\u001b[39myou can use .as_ordered() to change the \u001b[39m\u001b[39m\"\u001b[39m\n\u001b[0;32m   1847\u001b[0m         \u001b[39m\"\u001b[39m\u001b[39mCategorical to an ordered one\u001b[39m\u001b[39m\\n\u001b[39;00m\u001b[39m\"\u001b[39m\n\u001b[0;32m   1848\u001b[0m     )\n",
      "\u001b[1;31mTypeError\u001b[0m: Categorical is not ordered for operation min\nyou can use .as_ordered() to change the Categorical to an ordered one\n"
     ]
    }
   ],
   "source": [
    "im_features = [\"RM\", \"ZN\", \"CHAS\", \"INDUS\", \"AGE\", \"PTRATIO\", \"LSTAT\", \"NOX\"]\n",
    "for i, feature in enumerate(im_features):\n",
    "    row = int(i/4)\n",
    "    col = i%4\n",
    "\n",
    "    sns.regplot(x = feature, y = \"PRICE\", data = boston_df, ax = axs[row, col])"
   ]
  }
 ],
 "metadata": {
  "kernelspec": {
   "display_name": "Python 3",
   "language": "python",
   "name": "python3"
  },
  "language_info": {
   "codemirror_mode": {
    "name": "ipython",
    "version": 3
   },
   "file_extension": ".py",
   "mimetype": "text/x-python",
   "name": "python",
   "nbconvert_exporter": "python",
   "pygments_lexer": "ipython3",
   "version": "3.9.18"
  }
 },
 "nbformat": 4,
 "nbformat_minor": 2
}
